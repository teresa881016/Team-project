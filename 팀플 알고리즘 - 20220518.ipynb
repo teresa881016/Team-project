{
 "cells": [
  {
   "cell_type": "markdown",
   "id": "eacd6780",
   "metadata": {},
   "source": [
    "##### https://diane-space.tistory.com/285\n",
    "##### https://techblog-history-younghunjo1.tistory.com/373?category=922523\n",
    "##### https://wpaud16.tistory.com/67"
   ]
  },
  {
   "cell_type": "code",
   "execution_count": 57,
   "id": "721865d3",
   "metadata": {},
   "outputs": [],
   "source": [
    "import tensorflow as tf \n",
    "import numpy as np \n",
    "import matplotlib.pyplot as plt \n",
    "import pandas as pd \n",
    "import seaborn as sns\n",
    "from sklearn.preprocessing import StandardScaler, MinMaxScaler"
   ]
  },
  {
   "cell_type": "code",
   "execution_count": 18,
   "id": "68765cf2",
   "metadata": {},
   "outputs": [],
   "source": [
    "# 데이터 불러오기 \n",
    "xy = pd.read_csv('./day_stock_data.csv', encoding='utf-8')\n",
    "xy = xy[::-1] # 역순으로 저장 "
   ]
  },
  {
   "cell_type": "code",
   "execution_count": 19,
   "id": "3c571f0f",
   "metadata": {},
   "outputs": [],
   "source": [
    "xy = xy.drop(['주가변동'], axis=1)"
   ]
  },
  {
   "cell_type": "code",
   "execution_count": 20,
   "id": "6cbb085f",
   "metadata": {},
   "outputs": [],
   "source": [
    "xy = xy.drop(['Unnamed: 0'], axis=1)"
   ]
  },
  {
   "cell_type": "code",
   "execution_count": 21,
   "id": "1484d82e",
   "metadata": {},
   "outputs": [],
   "source": [
    "xy = xy.drop(['날짜'], axis=1)"
   ]
  },
  {
   "cell_type": "code",
   "execution_count": 22,
   "id": "7b8aa9ef",
   "metadata": {},
   "outputs": [],
   "source": [
    "xy = xy.drop(labels=range(0,10100), axis=0)"
   ]
  },
  {
   "cell_type": "code",
   "execution_count": 56,
   "id": "98dcaff0",
   "metadata": {},
   "outputs": [
    {
     "data": {
      "text/html": [
       "<div>\n",
       "<style scoped>\n",
       "    .dataframe tbody tr th:only-of-type {\n",
       "        vertical-align: middle;\n",
       "    }\n",
       "\n",
       "    .dataframe tbody tr th {\n",
       "        vertical-align: top;\n",
       "    }\n",
       "\n",
       "    .dataframe thead th {\n",
       "        text-align: right;\n",
       "    }\n",
       "</style>\n",
       "<table border=\"1\" class=\"dataframe\">\n",
       "  <thead>\n",
       "    <tr style=\"text-align: right;\">\n",
       "      <th></th>\n",
       "      <th>시가</th>\n",
       "      <th>고가</th>\n",
       "      <th>저가</th>\n",
       "      <th>종가</th>\n",
       "      <th>거래량</th>\n",
       "    </tr>\n",
       "  </thead>\n",
       "  <tbody>\n",
       "    <tr>\n",
       "      <th>11337</th>\n",
       "      <td>68300</td>\n",
       "      <td>68700</td>\n",
       "      <td>67600</td>\n",
       "      <td>67900</td>\n",
       "      <td>11670251</td>\n",
       "    </tr>\n",
       "    <tr>\n",
       "      <th>11336</th>\n",
       "      <td>66600</td>\n",
       "      <td>67900</td>\n",
       "      <td>66600</td>\n",
       "      <td>67600</td>\n",
       "      <td>15680447</td>\n",
       "    </tr>\n",
       "    <tr>\n",
       "      <th>11335</th>\n",
       "      <td>67100</td>\n",
       "      <td>67400</td>\n",
       "      <td>66100</td>\n",
       "      <td>66300</td>\n",
       "      <td>11937555</td>\n",
       "    </tr>\n",
       "    <tr>\n",
       "      <th>11334</th>\n",
       "      <td>65300</td>\n",
       "      <td>66700</td>\n",
       "      <td>65200</td>\n",
       "      <td>66500</td>\n",
       "      <td>14551536</td>\n",
       "    </tr>\n",
       "    <tr>\n",
       "      <th>11333</th>\n",
       "      <td>65200</td>\n",
       "      <td>65500</td>\n",
       "      <td>64900</td>\n",
       "      <td>64900</td>\n",
       "      <td>16414188</td>\n",
       "    </tr>\n",
       "  </tbody>\n",
       "</table>\n",
       "</div>"
      ],
      "text/plain": [
       "          시가     고가     저가     종가       거래량\n",
       "11337  68300  68700  67600  67900  11670251\n",
       "11336  66600  67900  66600  67600  15680447\n",
       "11335  67100  67400  66100  66300  11937555\n",
       "11334  65300  66700  65200  66500  14551536\n",
       "11333  65200  65500  64900  64900  16414188"
      ]
     },
     "execution_count": 56,
     "metadata": {},
     "output_type": "execute_result"
    }
   ],
   "source": [
    "xy.head()"
   ]
  },
  {
   "cell_type": "code",
   "execution_count": 58,
   "id": "a42366b7",
   "metadata": {},
   "outputs": [],
   "source": [
    "scaler_ = MinMaxScaler()\n",
    "scaler_.fit(xy)\n",
    "xy_scaled = scaler_.transform(xy)"
   ]
  },
  {
   "cell_type": "code",
   "execution_count": 59,
   "id": "b5239cd6",
   "metadata": {},
   "outputs": [],
   "source": [
    "xy_scaled_df = pd.DataFrame(xy_scaled, columns=xy.columns)"
   ]
  },
  {
   "cell_type": "code",
   "execution_count": 60,
   "id": "c40b28d6",
   "metadata": {},
   "outputs": [
    {
     "data": {
      "text/html": [
       "<div>\n",
       "<style scoped>\n",
       "    .dataframe tbody tr th:only-of-type {\n",
       "        vertical-align: middle;\n",
       "    }\n",
       "\n",
       "    .dataframe tbody tr th {\n",
       "        vertical-align: top;\n",
       "    }\n",
       "\n",
       "    .dataframe thead th {\n",
       "        text-align: right;\n",
       "    }\n",
       "</style>\n",
       "<table border=\"1\" class=\"dataframe\">\n",
       "  <thead>\n",
       "    <tr style=\"text-align: right;\">\n",
       "      <th></th>\n",
       "      <th>시가</th>\n",
       "      <th>고가</th>\n",
       "      <th>저가</th>\n",
       "      <th>종가</th>\n",
       "      <th>거래량</th>\n",
       "    </tr>\n",
       "  </thead>\n",
       "  <tbody>\n",
       "    <tr>\n",
       "      <th>0</th>\n",
       "      <td>0.583728</td>\n",
       "      <td>0.525338</td>\n",
       "      <td>0.584046</td>\n",
       "      <td>0.568627</td>\n",
       "      <td>0.129230</td>\n",
       "    </tr>\n",
       "    <tr>\n",
       "      <th>1</th>\n",
       "      <td>0.551561</td>\n",
       "      <td>0.511824</td>\n",
       "      <td>0.565052</td>\n",
       "      <td>0.563025</td>\n",
       "      <td>0.173636</td>\n",
       "    </tr>\n",
       "    <tr>\n",
       "      <th>2</th>\n",
       "      <td>0.561022</td>\n",
       "      <td>0.503378</td>\n",
       "      <td>0.555556</td>\n",
       "      <td>0.538749</td>\n",
       "      <td>0.132190</td>\n",
       "    </tr>\n",
       "    <tr>\n",
       "      <th>3</th>\n",
       "      <td>0.526963</td>\n",
       "      <td>0.491554</td>\n",
       "      <td>0.538462</td>\n",
       "      <td>0.542484</td>\n",
       "      <td>0.161136</td>\n",
       "    </tr>\n",
       "    <tr>\n",
       "      <th>4</th>\n",
       "      <td>0.525071</td>\n",
       "      <td>0.471284</td>\n",
       "      <td>0.532764</td>\n",
       "      <td>0.512605</td>\n",
       "      <td>0.181762</td>\n",
       "    </tr>\n",
       "    <tr>\n",
       "      <th>...</th>\n",
       "      <td>...</td>\n",
       "      <td>...</td>\n",
       "      <td>...</td>\n",
       "      <td>...</td>\n",
       "      <td>...</td>\n",
       "    </tr>\n",
       "    <tr>\n",
       "      <th>1233</th>\n",
       "      <td>0.157237</td>\n",
       "      <td>0.144595</td>\n",
       "      <td>0.167331</td>\n",
       "      <td>0.156303</td>\n",
       "      <td>0.104344</td>\n",
       "    </tr>\n",
       "    <tr>\n",
       "      <th>1234</th>\n",
       "      <td>0.150804</td>\n",
       "      <td>0.144932</td>\n",
       "      <td>0.158974</td>\n",
       "      <td>0.150327</td>\n",
       "      <td>0.235619</td>\n",
       "    </tr>\n",
       "    <tr>\n",
       "      <th>1235</th>\n",
       "      <td>0.164806</td>\n",
       "      <td>0.162500</td>\n",
       "      <td>0.166192</td>\n",
       "      <td>0.152194</td>\n",
       "      <td>0.259240</td>\n",
       "    </tr>\n",
       "    <tr>\n",
       "      <th>1236</th>\n",
       "      <td>0.152696</td>\n",
       "      <td>0.159122</td>\n",
       "      <td>0.161254</td>\n",
       "      <td>0.178711</td>\n",
       "      <td>0.216846</td>\n",
       "    </tr>\n",
       "    <tr>\n",
       "      <th>1237</th>\n",
       "      <td>0.156102</td>\n",
       "      <td>0.136824</td>\n",
       "      <td>0.152137</td>\n",
       "      <td>0.150700</td>\n",
       "      <td>0.151596</td>\n",
       "    </tr>\n",
       "  </tbody>\n",
       "</table>\n",
       "<p>1238 rows × 5 columns</p>\n",
       "</div>"
      ],
      "text/plain": [
       "            시가        고가        저가        종가       거래량\n",
       "0     0.583728  0.525338  0.584046  0.568627  0.129230\n",
       "1     0.551561  0.511824  0.565052  0.563025  0.173636\n",
       "2     0.561022  0.503378  0.555556  0.538749  0.132190\n",
       "3     0.526963  0.491554  0.538462  0.542484  0.161136\n",
       "4     0.525071  0.471284  0.532764  0.512605  0.181762\n",
       "...        ...       ...       ...       ...       ...\n",
       "1233  0.157237  0.144595  0.167331  0.156303  0.104344\n",
       "1234  0.150804  0.144932  0.158974  0.150327  0.235619\n",
       "1235  0.164806  0.162500  0.166192  0.152194  0.259240\n",
       "1236  0.152696  0.159122  0.161254  0.178711  0.216846\n",
       "1237  0.156102  0.136824  0.152137  0.150700  0.151596\n",
       "\n",
       "[1238 rows x 5 columns]"
      ]
     },
     "execution_count": 60,
     "metadata": {},
     "output_type": "execute_result"
    }
   ],
   "source": [
    "xy_scaled_df"
   ]
  },
  {
   "cell_type": "code",
   "execution_count": 42,
   "id": "8bae8d8e",
   "metadata": {
    "scrolled": true
   },
   "outputs": [],
   "source": [
    "# # 정규화 함수 \n",
    "# def MinMaxScaler(data):\n",
    "#     denom = np.max(data,0)-np.min(data,0)\n",
    "#     nume = data-np.min(data,0)\n",
    "#     return nume/denom\n",
    "\n",
    "# # 정규화 되돌리기 함수 \n",
    "# def back_MinMax(data,value):\n",
    "#     diff = np.max(data,0)-np.min(data,0)\n",
    "#     back = value * diff + np.min(data,0)\n",
    "#     return back "
   ]
  },
  {
   "cell_type": "code",
   "execution_count": 77,
   "id": "c07b6d42",
   "metadata": {},
   "outputs": [],
   "source": [
    " X_train, y_train = xy_scaled_df.iloc[:, :-1].values, xy_scaled_df.iloc[:, [-1]].values\n",
    "# X_train = X_train.astype(int)\n",
    "# y_train - y_train.astype(int)\n",
    "# X_train, y_train"
   ]
  },
  {
   "cell_type": "code",
   "execution_count": null,
   "id": "96d8cd9c",
   "metadata": {},
   "outputs": [],
   "source": []
  },
  {
   "cell_type": "code",
   "execution_count": null,
   "id": "a0915681",
   "metadata": {},
   "outputs": [],
   "source": []
  },
  {
   "cell_type": "code",
   "execution_count": null,
   "id": "f9487369",
   "metadata": {},
   "outputs": [],
   "source": []
  },
  {
   "cell_type": "code",
   "execution_count": 68,
   "id": "5a972cc3",
   "metadata": {},
   "outputs": [],
   "source": [
    "seqLength = 7 # window size = row 수\n",
    "dataDim = xy.columns # 날짜, 시가, 고가, 저가, 종가, 거래량\n",
    "hiddenDim = 10 \n",
    "outputDim = 1\n",
    "lr = 0.01\n",
    "iterations = 500\n",
    "\n",
    "trainSize = int(len(xy)*0.7)\n",
    "trainSet = xy_scaled_df[0:trainSize]\n",
    "testSet = xy_scaled_df[trainSize-seqLength:]\n",
    "\n",
    "trainSet = MinMaxScaler(trainSet)\n",
    "testSet = MinMaxScaler(testSet)"
   ]
  },
  {
   "cell_type": "code",
   "execution_count": 69,
   "id": "5640c16f",
   "metadata": {},
   "outputs": [],
   "source": [
    "# # 7일간의 5가지 데이터(시가, 종가, 고가, 저가, 거래량)를 받아와서 \n",
    "# # 바로 다음 날의 종가를 예측하는 모델로 구성\n",
    "\n",
    "# def buildDataSet(timeSeries, seqLength):\n",
    "#     xdata = []\n",
    "#     ydata = [] \n",
    "#     for i in range(0,(timeSeries)-seqLength):\n",
    "#         tx = timeSeries[i:i+seqLength,:-1]\n",
    "#         ty = timeSeries[i+seqLength,[-1]]\n",
    "#         xdata.append(tx)\n",
    "#         ydata.append(ty)\n",
    "#     return np.array(xdata), np.array(ydata)"
   ]
  },
  {
   "cell_type": "code",
   "execution_count": 75,
   "id": "5b056cc5",
   "metadata": {},
   "outputs": [],
   "source": [
    "from sklearn.model_selection import train_test_split"
   ]
  },
  {
   "cell_type": "code",
   "execution_count": 83,
   "id": "1b109eb7",
   "metadata": {},
   "outputs": [],
   "source": [
    "#train/test size 설정\n",
    "train_size = int(len(xy_scaled_df)*0.6)\n",
    "test_size = int(len(xy_scaled_df)*0.3) +train_size\n",
    "\n",
    "#train/test/validation set 나누기\n",
    "train_x = np.array(xy_scaled_df[:train_size])\n",
    "train_y = np.array(xy_scaled_df['종가'][:train_size])\n",
    "\n",
    "test_x =np.array(xy_scaled_df[train_size:test_size])\n",
    "test_y = np.array(xy_scaled_df['종가'][train_size:test_size])\n",
    "\n",
    "validation_x = np.array(xy_scaled_df[test_size:])\n",
    "validation_y = np.array(xy_scaled_df['종가'][test_size:])"
   ]
  },
  {
   "cell_type": "code",
   "execution_count": 84,
   "id": "f8fc4a4f",
   "metadata": {},
   "outputs": [],
   "source": [
    "# 모델 구성 \n",
    "\n",
    "# First, let's define a RNN Cell, as a layer subclass.\n",
    "from tensorflow.python import keras\n",
    "from tensorflow.python.keras import layers"
   ]
  },
  {
   "cell_type": "code",
   "execution_count": 85,
   "id": "6d0d997b",
   "metadata": {
    "scrolled": true
   },
   "outputs": [
    {
     "name": "stdout",
     "output_type": "stream",
     "text": [
      "Model: \"sequential_4\"\n",
      "_________________________________________________________________\n",
      "Layer (type)                 Output Shape              Param #   \n",
      "=================================================================\n",
      "simple_rnn_4 (SimpleRNN)     (None, 10)                150       \n",
      "_________________________________________________________________\n",
      "dense_4 (Dense)              (None, 1)                 11        \n",
      "=================================================================\n",
      "Total params: 161\n",
      "Trainable params: 161\n",
      "Non-trainable params: 0\n",
      "_________________________________________________________________\n"
     ]
    }
   ],
   "source": [
    "model = keras.Sequential()\n",
    "\n",
    "model.add(layers.SimpleRNN(units=10, \n",
    "                           activation='tanh',\n",
    "                           input_shape=[7,4]))\n",
    "\n",
    "model.add(layers.Dense(1))\n",
    "\n",
    "model.summary()"
   ]
  },
  {
   "cell_type": "code",
   "execution_count": 86,
   "id": "adc48d06",
   "metadata": {},
   "outputs": [
    {
     "name": "stdout",
     "output_type": "stream",
     "text": [
      "Epoch 1/1000\n"
     ]
    },
    {
     "ename": "ValueError",
     "evalue": "in user code:\n\n\n    ValueError: Input 0 of layer sequential_4 is incompatible with the layer: expected ndim=3, found ndim=2. Full shape received: (None, 5)\n",
     "output_type": "error",
     "traceback": [
      "\u001b[1;31m---------------------------------------------------------------------------\u001b[0m",
      "\u001b[1;31mValueError\u001b[0m                                Traceback (most recent call last)",
      "Input \u001b[1;32mIn [86]\u001b[0m, in \u001b[0;36m<cell line: 5>\u001b[1;34m()\u001b[0m\n\u001b[0;32m      2\u001b[0m model\u001b[38;5;241m.\u001b[39mcompile(loss\u001b[38;5;241m=\u001b[39m\u001b[38;5;124m'\u001b[39m\u001b[38;5;124mmse\u001b[39m\u001b[38;5;124m'\u001b[39m, optimizer\u001b[38;5;241m=\u001b[39m\u001b[38;5;124m'\u001b[39m\u001b[38;5;124madam\u001b[39m\u001b[38;5;124m'\u001b[39m, metrics\u001b[38;5;241m=\u001b[39m[\u001b[38;5;124m'\u001b[39m\u001b[38;5;124mmae\u001b[39m\u001b[38;5;124m'\u001b[39m])\n\u001b[0;32m      4\u001b[0m \u001b[38;5;66;03m# 모델 트레이닝 \u001b[39;00m\n\u001b[1;32m----> 5\u001b[0m hist \u001b[38;5;241m=\u001b[39m \u001b[43mmodel\u001b[49m\u001b[38;5;241;43m.\u001b[39;49m\u001b[43mfit\u001b[49m\u001b[43m(\u001b[49m\u001b[43mtrain_x\u001b[49m\u001b[43m,\u001b[49m\u001b[43m \u001b[49m\u001b[43mtrain_y\u001b[49m\u001b[43m,\u001b[49m\u001b[43m \u001b[49m\u001b[43mepochs\u001b[49m\u001b[38;5;241;43m=\u001b[39;49m\u001b[38;5;241;43m1000\u001b[39;49m\u001b[43m,\u001b[49m\u001b[43m \u001b[49m\u001b[43mbatch_size\u001b[49m\u001b[38;5;241;43m=\u001b[39;49m\u001b[38;5;241;43m16\u001b[39;49m\u001b[43m)\u001b[49m\n",
      "File \u001b[1;32m~\\anaconda3\\envs\\auto-trading\\lib\\site-packages\\tensorflow\\python\\keras\\engine\\training.py:1189\u001b[0m, in \u001b[0;36mModel.fit\u001b[1;34m(self, x, y, batch_size, epochs, verbose, callbacks, validation_split, validation_data, shuffle, class_weight, sample_weight, initial_epoch, steps_per_epoch, validation_steps, validation_batch_size, validation_freq, max_queue_size, workers, use_multiprocessing)\u001b[0m\n\u001b[0;32m   1182\u001b[0m \u001b[38;5;28;01mwith\u001b[39;00m trace\u001b[38;5;241m.\u001b[39mTrace(\n\u001b[0;32m   1183\u001b[0m     \u001b[38;5;124m'\u001b[39m\u001b[38;5;124mtrain\u001b[39m\u001b[38;5;124m'\u001b[39m,\n\u001b[0;32m   1184\u001b[0m     epoch_num\u001b[38;5;241m=\u001b[39mepoch,\n\u001b[0;32m   1185\u001b[0m     step_num\u001b[38;5;241m=\u001b[39mstep,\n\u001b[0;32m   1186\u001b[0m     batch_size\u001b[38;5;241m=\u001b[39mbatch_size,\n\u001b[0;32m   1187\u001b[0m     _r\u001b[38;5;241m=\u001b[39m\u001b[38;5;241m1\u001b[39m):\n\u001b[0;32m   1188\u001b[0m   callbacks\u001b[38;5;241m.\u001b[39mon_train_batch_begin(step)\n\u001b[1;32m-> 1189\u001b[0m   tmp_logs \u001b[38;5;241m=\u001b[39m \u001b[38;5;28;43mself\u001b[39;49m\u001b[38;5;241;43m.\u001b[39;49m\u001b[43mtrain_function\u001b[49m\u001b[43m(\u001b[49m\u001b[43miterator\u001b[49m\u001b[43m)\u001b[49m\n\u001b[0;32m   1190\u001b[0m   \u001b[38;5;28;01mif\u001b[39;00m data_handler\u001b[38;5;241m.\u001b[39mshould_sync:\n\u001b[0;32m   1191\u001b[0m     context\u001b[38;5;241m.\u001b[39masync_wait()\n",
      "File \u001b[1;32m~\\anaconda3\\envs\\auto-trading\\lib\\site-packages\\tensorflow\\python\\util\\traceback_utils.py:153\u001b[0m, in \u001b[0;36mfilter_traceback.<locals>.error_handler\u001b[1;34m(*args, **kwargs)\u001b[0m\n\u001b[0;32m    151\u001b[0m \u001b[38;5;28;01mexcept\u001b[39;00m \u001b[38;5;167;01mException\u001b[39;00m \u001b[38;5;28;01mas\u001b[39;00m e:\n\u001b[0;32m    152\u001b[0m   filtered_tb \u001b[38;5;241m=\u001b[39m _process_traceback_frames(e\u001b[38;5;241m.\u001b[39m__traceback__)\n\u001b[1;32m--> 153\u001b[0m   \u001b[38;5;28;01mraise\u001b[39;00m e\u001b[38;5;241m.\u001b[39mwith_traceback(filtered_tb) \u001b[38;5;28;01mfrom\u001b[39;00m \u001b[38;5;28mNone\u001b[39m\n\u001b[0;32m    154\u001b[0m \u001b[38;5;28;01mfinally\u001b[39;00m:\n\u001b[0;32m    155\u001b[0m   \u001b[38;5;28;01mdel\u001b[39;00m filtered_tb\n",
      "File \u001b[1;32m~\\AppData\\Local\\Temp\\__autograph_generated_fileodgu512v.py:15\u001b[0m, in \u001b[0;36mouter_factory.<locals>.inner_factory.<locals>.tf__train_function\u001b[1;34m(iterator)\u001b[0m\n\u001b[0;32m     13\u001b[0m \u001b[38;5;28;01mtry\u001b[39;00m:\n\u001b[0;32m     14\u001b[0m     do_return \u001b[38;5;241m=\u001b[39m \u001b[38;5;28;01mTrue\u001b[39;00m\n\u001b[1;32m---> 15\u001b[0m     retval_ \u001b[38;5;241m=\u001b[39m ag__\u001b[38;5;241m.\u001b[39mconverted_call(ag__\u001b[38;5;241m.\u001b[39mld(step_function), (ag__\u001b[38;5;241m.\u001b[39mld(\u001b[38;5;28mself\u001b[39m), ag__\u001b[38;5;241m.\u001b[39mld(iterator)), \u001b[38;5;28;01mNone\u001b[39;00m, fscope)\n\u001b[0;32m     16\u001b[0m \u001b[38;5;28;01mexcept\u001b[39;00m:\n\u001b[0;32m     17\u001b[0m     do_return \u001b[38;5;241m=\u001b[39m \u001b[38;5;28;01mFalse\u001b[39;00m\n",
      "\u001b[1;31mValueError\u001b[0m: in user code:\n\n\n    ValueError: Input 0 of layer sequential_4 is incompatible with the layer: expected ndim=3, found ndim=2. Full shape received: (None, 5)\n"
     ]
    }
   ],
   "source": [
    "# 모델 학습과정 설정 \n",
    "model.compile(loss='mse', optimizer='adam', metrics=['mae'])\n",
    "\n",
    "# 모델 트레이닝 \n",
    "hist = model.fit(train_x, train_y, epochs=1000, batch_size=16)"
   ]
  },
  {
   "cell_type": "code",
   "execution_count": null,
   "id": "7b3aec46",
   "metadata": {},
   "outputs": [],
   "source": [
    "# 모델 테스트 \n",
    "res = model.evaluate(test_x, test_y, batch_size=16)\n",
    "print(\"loss\",res[0],\"mae\",res[1])"
   ]
  },
  {
   "cell_type": "code",
   "execution_count": null,
   "id": "0224f571",
   "metadata": {},
   "outputs": [],
   "source": [
    "#7 모델 사용\n",
    "xhat = test_x\n",
    "yhat = model.predict(xhat)\n",
    "\n",
    "print(\"Evaluate : {}\".format(np.average((yhat - testY)**2)))"
   ]
  },
  {
   "cell_type": "code",
   "execution_count": null,
   "id": "fde9f84a",
   "metadata": {},
   "outputs": [],
   "source": [
    "# 원래 값으로 되돌리기 \n",
    "predict1 = back_MinMax(xy_scaled_df[trainSize-seqLength:,[-1]],yhat)\n",
    "actual = back_MinMax(xy_scaled_df[trainSize-seqLength:,[-1]],testY)\n",
    "print(\"예측값\",predict1)\n",
    "print(\"실제값\",actual)\n",
    "\n",
    "print(predict1.shape)\n",
    "print(actual.shape)"
   ]
  },
  {
   "cell_type": "code",
   "execution_count": null,
   "id": "5a659733",
   "metadata": {},
   "outputs": [],
   "source": [
    "%matplotlib notebook\n",
    "plt.figure()\n",
    "plt.plot(predict[:30], label = \"predict_RNN\")\n",
    "plt.plot(actual[:30],label = \"actual\")\n",
    "\n",
    "plt.legend(prop={'size': 20})"
   ]
  },
  {
   "cell_type": "code",
   "execution_count": null,
   "id": "1c3dc4e8",
   "metadata": {},
   "outputs": [],
   "source": [
    "# LSTM Model\n",
    "model2 = keras.Sequential()\n",
    "\n",
    "model2.add(layers.LSTM(units=10, \n",
    "                           activation='tanh',\n",
    "                           input_shape=[7,4]))\n",
    "\n",
    "model2.add(layers.Dense(1))\n",
    "\n",
    "model2.summary()"
   ]
  },
  {
   "cell_type": "code",
   "execution_count": null,
   "id": "755a637b",
   "metadata": {},
   "outputs": [],
   "source": [
    "# 모델 학습과정 설정 \n",
    "model2.compile(loss='mse', optimizer='adam', metrics=['mae'])\n",
    "\n",
    "# 모델 트레이닝 \n",
    "hist = model2.fit(train_x, train_y, epochs=100, batch_size=16)"
   ]
  },
  {
   "cell_type": "code",
   "execution_count": null,
   "id": "f8b9e896",
   "metadata": {},
   "outputs": [],
   "source": [
    "# 모델 테스트 \n",
    "res2 = model2.evaluate(test_x, test_y, batch_size=16)\n",
    "print(\"loss\",res2[0],\"mae\",res2[1])"
   ]
  },
  {
   "cell_type": "code",
   "execution_count": null,
   "id": "8b141503",
   "metadata": {},
   "outputs": [],
   "source": [
    "#7 모델 사용\n",
    "xhat = test_x\n",
    "yhat = model2.predict(xhat)\n",
    "print(testY)\n",
    "print(yhat)\n",
    "\n",
    "print(\"Evaluate : {}\".format(np.average((yhat - testY)**2)))"
   ]
  },
  {
   "cell_type": "code",
   "execution_count": null,
   "id": "4650ac38",
   "metadata": {},
   "outputs": [],
   "source": [
    "# 원래 값으로 되돌리기 \n",
    "predict2 = back_MinMax(xy_scaled_df[trainSize-seqLength:,[-1]],yhat)\n",
    "actual = back_MinMax(xy_scaled_df[trainSize-seqLength:,[-1]],testY)\n",
    "print(\"예측값\",predict2)\n",
    "print(\"실제값\",actual)"
   ]
  },
  {
   "cell_type": "code",
   "execution_count": null,
   "id": "4dcda94f",
   "metadata": {},
   "outputs": [],
   "source": [
    "%matplotlib notebook\n",
    "plt.figure()\n",
    "plt.plot(predict2[:30], label = \"predict_LSTM\")\n",
    "plt.plot(actual[:30],label = \"actual\")\n",
    "\n",
    "plt.legend(prop={'size': 20})"
   ]
  },
  {
   "cell_type": "code",
   "execution_count": null,
   "id": "2cf7d97f",
   "metadata": {},
   "outputs": [],
   "source": [
    "%matplotlib notebook\n",
    "plt.figure()\n",
    "day=30\n",
    "plt.plot(predict1[:day], label = \"RNN\")\n",
    "plt.plot(predict2[:day], label = \"LSTM\")\n",
    "plt.plot(actual[:day],label = \"actual\")\n",
    "\n",
    "plt.legend(prop={'size': 20})\n"
   ]
  },
  {
   "cell_type": "code",
   "execution_count": null,
   "id": "00925a4e",
   "metadata": {},
   "outputs": [],
   "source": []
  },
  {
   "cell_type": "code",
   "execution_count": null,
   "id": "a43dcf72",
   "metadata": {},
   "outputs": [],
   "source": []
  },
  {
   "cell_type": "code",
   "execution_count": null,
   "id": "fc72f2f6",
   "metadata": {},
   "outputs": [],
   "source": []
  },
  {
   "cell_type": "code",
   "execution_count": null,
   "id": "d0de0438",
   "metadata": {},
   "outputs": [],
   "source": []
  }
 ],
 "metadata": {
  "kernelspec": {
   "display_name": "auto-trading",
   "language": "python",
   "name": "auto-trading"
  },
  "language_info": {
   "codemirror_mode": {
    "name": "ipython",
    "version": 3
   },
   "file_extension": ".py",
   "mimetype": "text/x-python",
   "name": "python",
   "nbconvert_exporter": "python",
   "pygments_lexer": "ipython3",
   "version": "3.8.13"
  }
 },
 "nbformat": 4,
 "nbformat_minor": 5
}

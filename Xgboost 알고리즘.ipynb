{
 "cells": [
  {
   "cell_type": "markdown",
   "id": "db3deb4d",
   "metadata": {},
   "source": [
    "##### https://github.com/AI4Finance-Foundation/Deep-Reinforcement-Learning-for-Automated-Stock-Trading-Ensemble-Strategy-ICAIF-2020/blob/master/backtesting.ipynb"
   ]
  },
  {
   "cell_type": "code",
   "execution_count": 125,
   "id": "2fe1e8e3",
   "metadata": {},
   "outputs": [],
   "source": [
    "from xgboost import XGBClassifier\n",
    "from sklearn.model_selection import train_test_split\n",
    "from sklearn.metrics import accuracy_score\n",
    "from sklearn.preprocessing import StandardScaler, MinMaxScaler\n",
    "import pandas as pd\n",
    "import warnings\n",
    "import matplotlib.pyplot as plt\n",
    "warnings.filterwarnings('ignore')"
   ]
  },
  {
   "cell_type": "code",
   "execution_count": 45,
   "id": "452d88c0",
   "metadata": {},
   "outputs": [
    {
     "data": {
      "text/plain": [
       "(11338, 8)"
      ]
     },
     "execution_count": 45,
     "metadata": {},
     "output_type": "execute_result"
    }
   ],
   "source": [
    "data = pd.read_csv(\"./day_stock_data.csv\")\n",
    "data.shape"
   ]
  },
  {
   "cell_type": "code",
   "execution_count": 46,
   "id": "a89abbb6",
   "metadata": {},
   "outputs": [
    {
     "data": {
      "text/html": [
       "<div>\n",
       "<style scoped>\n",
       "    .dataframe tbody tr th:only-of-type {\n",
       "        vertical-align: middle;\n",
       "    }\n",
       "\n",
       "    .dataframe tbody tr th {\n",
       "        vertical-align: top;\n",
       "    }\n",
       "\n",
       "    .dataframe thead th {\n",
       "        text-align: right;\n",
       "    }\n",
       "</style>\n",
       "<table border=\"1\" class=\"dataframe\">\n",
       "  <thead>\n",
       "    <tr style=\"text-align: right;\">\n",
       "      <th></th>\n",
       "      <th>Unnamed: 0</th>\n",
       "      <th>날짜</th>\n",
       "      <th>시가</th>\n",
       "      <th>고가</th>\n",
       "      <th>저가</th>\n",
       "      <th>종가</th>\n",
       "      <th>거래량</th>\n",
       "      <th>주가변동</th>\n",
       "    </tr>\n",
       "  </thead>\n",
       "  <tbody>\n",
       "    <tr>\n",
       "      <th>0</th>\n",
       "      <td>0</td>\n",
       "      <td>19800104</td>\n",
       "      <td>42</td>\n",
       "      <td>43</td>\n",
       "      <td>41</td>\n",
       "      <td>41</td>\n",
       "      <td>528022</td>\n",
       "      <td>1</td>\n",
       "    </tr>\n",
       "    <tr>\n",
       "      <th>1</th>\n",
       "      <td>1</td>\n",
       "      <td>19800105</td>\n",
       "      <td>40</td>\n",
       "      <td>42</td>\n",
       "      <td>40</td>\n",
       "      <td>42</td>\n",
       "      <td>1580051</td>\n",
       "      <td>1</td>\n",
       "    </tr>\n",
       "    <tr>\n",
       "      <th>2</th>\n",
       "      <td>2</td>\n",
       "      <td>19800107</td>\n",
       "      <td>43</td>\n",
       "      <td>44</td>\n",
       "      <td>43</td>\n",
       "      <td>44</td>\n",
       "      <td>2425288</td>\n",
       "      <td>1</td>\n",
       "    </tr>\n",
       "    <tr>\n",
       "      <th>3</th>\n",
       "      <td>3</td>\n",
       "      <td>19800108</td>\n",
       "      <td>47</td>\n",
       "      <td>47</td>\n",
       "      <td>45</td>\n",
       "      <td>47</td>\n",
       "      <td>5396669</td>\n",
       "      <td>1</td>\n",
       "    </tr>\n",
       "    <tr>\n",
       "      <th>4</th>\n",
       "      <td>4</td>\n",
       "      <td>19800109</td>\n",
       "      <td>47</td>\n",
       "      <td>49</td>\n",
       "      <td>46</td>\n",
       "      <td>49</td>\n",
       "      <td>4993123</td>\n",
       "      <td>1</td>\n",
       "    </tr>\n",
       "  </tbody>\n",
       "</table>\n",
       "</div>"
      ],
      "text/plain": [
       "   Unnamed: 0        날짜  시가  고가  저가  종가      거래량  주가변동\n",
       "0           0  19800104  42  43  41  41   528022     1\n",
       "1           1  19800105  40  42  40  42  1580051     1\n",
       "2           2  19800107  43  44  43  44  2425288     1\n",
       "3           3  19800108  47  47  45  47  5396669     1\n",
       "4           4  19800109  47  49  46  49  4993123     1"
      ]
     },
     "execution_count": 46,
     "metadata": {},
     "output_type": "execute_result"
    }
   ],
   "source": [
    "data.head()"
   ]
  },
  {
   "cell_type": "code",
   "execution_count": 47,
   "id": "ae80990b",
   "metadata": {},
   "outputs": [],
   "source": [
    "data = data.drop(['Unnamed: 0'], 1)"
   ]
  },
  {
   "cell_type": "code",
   "execution_count": 48,
   "id": "aa39d9df",
   "metadata": {},
   "outputs": [
    {
     "data": {
      "text/plain": [
       "(1438, 7)"
      ]
     },
     "execution_count": 48,
     "metadata": {},
     "output_type": "execute_result"
    }
   ],
   "source": [
    "data = data.drop(range(0,9900), axis=0)\n",
    "data.shape"
   ]
  },
  {
   "cell_type": "code",
   "execution_count": 49,
   "id": "28bed2f8",
   "metadata": {},
   "outputs": [],
   "source": [
    "data['날짜'] = data['날짜'].astype('str')"
   ]
  },
  {
   "cell_type": "code",
   "execution_count": 50,
   "id": "4fdcdfc4",
   "metadata": {
    "scrolled": true
   },
   "outputs": [
    {
     "name": "stdout",
     "output_type": "stream",
     "text": [
      "<class 'pandas.core.frame.DataFrame'>\n",
      "RangeIndex: 1438 entries, 9900 to 11337\n",
      "Data columns (total 7 columns):\n",
      " #   Column  Non-Null Count  Dtype \n",
      "---  ------  --------------  ----- \n",
      " 0   날짜      1438 non-null   object\n",
      " 1   시가      1438 non-null   int64 \n",
      " 2   고가      1438 non-null   int64 \n",
      " 3   저가      1438 non-null   int64 \n",
      " 4   종가      1438 non-null   int64 \n",
      " 5   거래량     1438 non-null   int64 \n",
      " 6   주가변동    1438 non-null   int64 \n",
      "dtypes: int64(6), object(1)\n",
      "memory usage: 78.8+ KB\n"
     ]
    }
   ],
   "source": [
    "data.info()"
   ]
  },
  {
   "cell_type": "code",
   "execution_count": 51,
   "id": "050ae82b",
   "metadata": {
    "scrolled": true
   },
   "outputs": [],
   "source": [
    "test_data=data[(data['날짜']>='2017-07-13') & (data['날짜']<='2022-05-18')]"
   ]
  },
  {
   "cell_type": "code",
   "execution_count": 52,
   "id": "94204f1d",
   "metadata": {},
   "outputs": [],
   "source": [
    "test_data = test_data.reset_index(drop=True)"
   ]
  },
  {
   "cell_type": "code",
   "execution_count": 53,
   "id": "0414f148",
   "metadata": {},
   "outputs": [
    {
     "data": {
      "text/plain": [
       "(1229, 7)"
      ]
     },
     "execution_count": 53,
     "metadata": {},
     "output_type": "execute_result"
    }
   ],
   "source": [
    "test_data.shape"
   ]
  },
  {
   "cell_type": "code",
   "execution_count": 54,
   "id": "35687788",
   "metadata": {},
   "outputs": [
    {
     "data": {
      "text/html": [
       "<div>\n",
       "<style scoped>\n",
       "    .dataframe tbody tr th:only-of-type {\n",
       "        vertical-align: middle;\n",
       "    }\n",
       "\n",
       "    .dataframe tbody tr th {\n",
       "        vertical-align: top;\n",
       "    }\n",
       "\n",
       "    .dataframe thead th {\n",
       "        text-align: right;\n",
       "    }\n",
       "</style>\n",
       "<table border=\"1\" class=\"dataframe\">\n",
       "  <thead>\n",
       "    <tr style=\"text-align: right;\">\n",
       "      <th></th>\n",
       "      <th>날짜</th>\n",
       "      <th>시가</th>\n",
       "      <th>고가</th>\n",
       "      <th>저가</th>\n",
       "      <th>종가</th>\n",
       "      <th>거래량</th>\n",
       "      <th>주가변동</th>\n",
       "    </tr>\n",
       "  </thead>\n",
       "  <tbody>\n",
       "    <tr>\n",
       "      <th>0</th>\n",
       "      <td>20170102</td>\n",
       "      <td>35980</td>\n",
       "      <td>36240</td>\n",
       "      <td>35880</td>\n",
       "      <td>36100</td>\n",
       "      <td>4650600</td>\n",
       "      <td>1</td>\n",
       "    </tr>\n",
       "    <tr>\n",
       "      <th>1</th>\n",
       "      <td>20170103</td>\n",
       "      <td>36280</td>\n",
       "      <td>36620</td>\n",
       "      <td>36020</td>\n",
       "      <td>36480</td>\n",
       "      <td>7357650</td>\n",
       "      <td>0</td>\n",
       "    </tr>\n",
       "    <tr>\n",
       "      <th>2</th>\n",
       "      <td>20170104</td>\n",
       "      <td>36500</td>\n",
       "      <td>36520</td>\n",
       "      <td>36100</td>\n",
       "      <td>36160</td>\n",
       "      <td>7971750</td>\n",
       "      <td>0</td>\n",
       "    </tr>\n",
       "    <tr>\n",
       "      <th>3</th>\n",
       "      <td>20170105</td>\n",
       "      <td>36060</td>\n",
       "      <td>36060</td>\n",
       "      <td>35540</td>\n",
       "      <td>35560</td>\n",
       "      <td>10967450</td>\n",
       "      <td>1</td>\n",
       "    </tr>\n",
       "    <tr>\n",
       "      <th>4</th>\n",
       "      <td>20170106</td>\n",
       "      <td>36180</td>\n",
       "      <td>36440</td>\n",
       "      <td>36040</td>\n",
       "      <td>36200</td>\n",
       "      <td>8880950</td>\n",
       "      <td>1</td>\n",
       "    </tr>\n",
       "  </tbody>\n",
       "</table>\n",
       "</div>"
      ],
      "text/plain": [
       "         날짜     시가     고가     저가     종가       거래량  주가변동\n",
       "0  20170102  35980  36240  35880  36100   4650600     1\n",
       "1  20170103  36280  36620  36020  36480   7357650     0\n",
       "2  20170104  36500  36520  36100  36160   7971750     0\n",
       "3  20170105  36060  36060  35540  35560  10967450     1\n",
       "4  20170106  36180  36440  36040  36200   8880950     1"
      ]
     },
     "execution_count": 54,
     "metadata": {},
     "output_type": "execute_result"
    }
   ],
   "source": [
    "test_data.head()"
   ]
  },
  {
   "cell_type": "code",
   "execution_count": 55,
   "id": "cd5ad95b",
   "metadata": {},
   "outputs": [],
   "source": [
    "test_data['daily_return']=test_data['종가'].pct_change(1)"
   ]
  },
  {
   "cell_type": "markdown",
   "id": "83b0d311",
   "metadata": {},
   "source": [
    "## XGboost"
   ]
  },
  {
   "cell_type": "code",
   "execution_count": 137,
   "id": "0fe71d75",
   "metadata": {
    "scrolled": true
   },
   "outputs": [],
   "source": [
    "df=pd.read_csv('./day_stock_data.csv')"
   ]
  },
  {
   "cell_type": "code",
   "execution_count": 138,
   "id": "4c41b54e",
   "metadata": {},
   "outputs": [],
   "source": [
    "rebalance_window = 63\n",
    "validation_window = 63\n",
    "unique_trade_date = df[(df['날짜'] > 20160801)&(df['날짜'] <= 20220518)]"
   ]
  },
  {
   "cell_type": "code",
   "execution_count": 139,
   "id": "3d9865da",
   "metadata": {},
   "outputs": [],
   "source": [
    "df_trade_date = pd.DataFrame(unique_trade_date)"
   ]
  },
  {
   "cell_type": "code",
   "execution_count": 140,
   "id": "499b05bf",
   "metadata": {},
   "outputs": [],
   "source": [
    "df_trade_date = df_trade_date.drop(['Unnamed: 0'], 1)"
   ]
  },
  {
   "cell_type": "code",
   "execution_count": 141,
   "id": "5c46c489",
   "metadata": {},
   "outputs": [
    {
     "data": {
      "text/html": [
       "<div>\n",
       "<style scoped>\n",
       "    .dataframe tbody tr th:only-of-type {\n",
       "        vertical-align: middle;\n",
       "    }\n",
       "\n",
       "    .dataframe tbody tr th {\n",
       "        vertical-align: top;\n",
       "    }\n",
       "\n",
       "    .dataframe thead th {\n",
       "        text-align: right;\n",
       "    }\n",
       "</style>\n",
       "<table border=\"1\" class=\"dataframe\">\n",
       "  <thead>\n",
       "    <tr style=\"text-align: right;\">\n",
       "      <th></th>\n",
       "      <th>날짜</th>\n",
       "      <th>시가</th>\n",
       "      <th>고가</th>\n",
       "      <th>저가</th>\n",
       "      <th>종가</th>\n",
       "      <th>거래량</th>\n",
       "      <th>주가변동</th>\n",
       "    </tr>\n",
       "  </thead>\n",
       "  <tbody>\n",
       "    <tr>\n",
       "      <th>9914</th>\n",
       "      <td>20160802</td>\n",
       "      <td>31360</td>\n",
       "      <td>31360</td>\n",
       "      <td>30920</td>\n",
       "      <td>30960</td>\n",
       "      <td>8315800</td>\n",
       "      <td>0</td>\n",
       "    </tr>\n",
       "    <tr>\n",
       "      <th>9915</th>\n",
       "      <td>20160803</td>\n",
       "      <td>30960</td>\n",
       "      <td>30960</td>\n",
       "      <td>30340</td>\n",
       "      <td>30340</td>\n",
       "      <td>7504900</td>\n",
       "      <td>0</td>\n",
       "    </tr>\n",
       "    <tr>\n",
       "      <th>9916</th>\n",
       "      <td>20160804</td>\n",
       "      <td>30380</td>\n",
       "      <td>30660</td>\n",
       "      <td>30340</td>\n",
       "      <td>30340</td>\n",
       "      <td>7009950</td>\n",
       "      <td>1</td>\n",
       "    </tr>\n",
       "    <tr>\n",
       "      <th>9917</th>\n",
       "      <td>20160805</td>\n",
       "      <td>30580</td>\n",
       "      <td>31280</td>\n",
       "      <td>30500</td>\n",
       "      <td>31220</td>\n",
       "      <td>6958850</td>\n",
       "      <td>1</td>\n",
       "    </tr>\n",
       "    <tr>\n",
       "      <th>9918</th>\n",
       "      <td>20160808</td>\n",
       "      <td>31320</td>\n",
       "      <td>31500</td>\n",
       "      <td>31120</td>\n",
       "      <td>31380</td>\n",
       "      <td>11125150</td>\n",
       "      <td>0</td>\n",
       "    </tr>\n",
       "    <tr>\n",
       "      <th>...</th>\n",
       "      <td>...</td>\n",
       "      <td>...</td>\n",
       "      <td>...</td>\n",
       "      <td>...</td>\n",
       "      <td>...</td>\n",
       "      <td>...</td>\n",
       "      <td>...</td>\n",
       "    </tr>\n",
       "    <tr>\n",
       "      <th>11333</th>\n",
       "      <td>20220512</td>\n",
       "      <td>65200</td>\n",
       "      <td>65500</td>\n",
       "      <td>64900</td>\n",
       "      <td>64900</td>\n",
       "      <td>16414188</td>\n",
       "      <td>1</td>\n",
       "    </tr>\n",
       "    <tr>\n",
       "      <th>11334</th>\n",
       "      <td>20220513</td>\n",
       "      <td>65300</td>\n",
       "      <td>66700</td>\n",
       "      <td>65200</td>\n",
       "      <td>66500</td>\n",
       "      <td>14551536</td>\n",
       "      <td>0</td>\n",
       "    </tr>\n",
       "    <tr>\n",
       "      <th>11335</th>\n",
       "      <td>20220516</td>\n",
       "      <td>67100</td>\n",
       "      <td>67400</td>\n",
       "      <td>66100</td>\n",
       "      <td>66300</td>\n",
       "      <td>11937555</td>\n",
       "      <td>1</td>\n",
       "    </tr>\n",
       "    <tr>\n",
       "      <th>11336</th>\n",
       "      <td>20220517</td>\n",
       "      <td>66600</td>\n",
       "      <td>67900</td>\n",
       "      <td>66600</td>\n",
       "      <td>67600</td>\n",
       "      <td>15680447</td>\n",
       "      <td>1</td>\n",
       "    </tr>\n",
       "    <tr>\n",
       "      <th>11337</th>\n",
       "      <td>20220518</td>\n",
       "      <td>68300</td>\n",
       "      <td>68700</td>\n",
       "      <td>67600</td>\n",
       "      <td>67900</td>\n",
       "      <td>11670251</td>\n",
       "      <td>0</td>\n",
       "    </tr>\n",
       "  </tbody>\n",
       "</table>\n",
       "<p>1424 rows × 7 columns</p>\n",
       "</div>"
      ],
      "text/plain": [
       "             날짜     시가     고가     저가     종가       거래량  주가변동\n",
       "9914   20160802  31360  31360  30920  30960   8315800     0\n",
       "9915   20160803  30960  30960  30340  30340   7504900     0\n",
       "9916   20160804  30380  30660  30340  30340   7009950     1\n",
       "9917   20160805  30580  31280  30500  31220   6958850     1\n",
       "9918   20160808  31320  31500  31120  31380  11125150     0\n",
       "...         ...    ...    ...    ...    ...       ...   ...\n",
       "11333  20220512  65200  65500  64900  64900  16414188     1\n",
       "11334  20220513  65300  66700  65200  66500  14551536     0\n",
       "11335  20220516  67100  67400  66100  66300  11937555     1\n",
       "11336  20220517  66600  67900  66600  67600  15680447     1\n",
       "11337  20220518  68300  68700  67600  67900  11670251     0\n",
       "\n",
       "[1424 rows x 7 columns]"
      ]
     },
     "execution_count": 141,
     "metadata": {},
     "output_type": "execute_result"
    }
   ],
   "source": [
    "df_trade_date"
   ]
  },
  {
   "cell_type": "code",
   "execution_count": 142,
   "id": "bccc4116",
   "metadata": {
    "scrolled": true
   },
   "outputs": [
    {
     "name": "stdout",
     "output_type": "stream",
     "text": [
      "<class 'pandas.core.frame.DataFrame'>\n",
      "Int64Index: 1424 entries, 9914 to 11337\n",
      "Data columns (total 7 columns):\n",
      " #   Column  Non-Null Count  Dtype\n",
      "---  ------  --------------  -----\n",
      " 0   날짜      1424 non-null   int64\n",
      " 1   시가      1424 non-null   int64\n",
      " 2   고가      1424 non-null   int64\n",
      " 3   저가      1424 non-null   int64\n",
      " 4   종가      1424 non-null   int64\n",
      " 5   거래량     1424 non-null   int64\n",
      " 6   주가변동    1424 non-null   int64\n",
      "dtypes: int64(7)\n",
      "memory usage: 89.0 KB\n"
     ]
    }
   ],
   "source": [
    "df_trade_date.info()"
   ]
  },
  {
   "cell_type": "code",
   "execution_count": 143,
   "id": "861f45d4",
   "metadata": {},
   "outputs": [
    {
     "data": {
      "text/plain": [
       "(1424, 7)"
      ]
     },
     "execution_count": 143,
     "metadata": {},
     "output_type": "execute_result"
    }
   ],
   "source": [
    "df_trade_date.shape"
   ]
  },
  {
   "cell_type": "code",
   "execution_count": 144,
   "id": "5301b010",
   "metadata": {},
   "outputs": [],
   "source": [
    "scaler_ = MinMaxScaler()\n",
    "scaler_.fit(df_trade_date)\n",
    "xy_scaled = scaler_.transform(df_trade_date)"
   ]
  },
  {
   "cell_type": "code",
   "execution_count": 145,
   "id": "e70467de",
   "metadata": {},
   "outputs": [],
   "source": [
    "xy_scaled_df = pd.DataFrame(xy_scaled, columns=df_trade_date.columns)"
   ]
  },
  {
   "cell_type": "code",
   "execution_count": 146,
   "id": "c9a25aa9",
   "metadata": {},
   "outputs": [
    {
     "data": {
      "text/html": [
       "<div>\n",
       "<style scoped>\n",
       "    .dataframe tbody tr th:only-of-type {\n",
       "        vertical-align: middle;\n",
       "    }\n",
       "\n",
       "    .dataframe tbody tr th {\n",
       "        vertical-align: top;\n",
       "    }\n",
       "\n",
       "    .dataframe thead th {\n",
       "        text-align: right;\n",
       "    }\n",
       "</style>\n",
       "<table border=\"1\" class=\"dataframe\">\n",
       "  <thead>\n",
       "    <tr style=\"text-align: right;\">\n",
       "      <th></th>\n",
       "      <th>날짜</th>\n",
       "      <th>시가</th>\n",
       "      <th>고가</th>\n",
       "      <th>저가</th>\n",
       "      <th>종가</th>\n",
       "      <th>거래량</th>\n",
       "      <th>주가변동</th>\n",
       "    </tr>\n",
       "  </thead>\n",
       "  <tbody>\n",
       "    <tr>\n",
       "      <th>0</th>\n",
       "      <td>0.000000</td>\n",
       "      <td>0.025785</td>\n",
       "      <td>0.018596</td>\n",
       "      <td>0.029811</td>\n",
       "      <td>0.026904</td>\n",
       "      <td>0.092085</td>\n",
       "      <td>0.0</td>\n",
       "    </tr>\n",
       "    <tr>\n",
       "      <th>1</th>\n",
       "      <td>0.000017</td>\n",
       "      <td>0.019174</td>\n",
       "      <td>0.012597</td>\n",
       "      <td>0.020205</td>\n",
       "      <td>0.016856</td>\n",
       "      <td>0.083105</td>\n",
       "      <td>0.0</td>\n",
       "    </tr>\n",
       "    <tr>\n",
       "      <th>2</th>\n",
       "      <td>0.000033</td>\n",
       "      <td>0.009587</td>\n",
       "      <td>0.008098</td>\n",
       "      <td>0.020205</td>\n",
       "      <td>0.016856</td>\n",
       "      <td>0.077624</td>\n",
       "      <td>1.0</td>\n",
       "    </tr>\n",
       "    <tr>\n",
       "      <th>3</th>\n",
       "      <td>0.000050</td>\n",
       "      <td>0.012893</td>\n",
       "      <td>0.017397</td>\n",
       "      <td>0.022855</td>\n",
       "      <td>0.031118</td>\n",
       "      <td>0.077058</td>\n",
       "      <td>1.0</td>\n",
       "    </tr>\n",
       "    <tr>\n",
       "      <th>4</th>\n",
       "      <td>0.000100</td>\n",
       "      <td>0.025124</td>\n",
       "      <td>0.020696</td>\n",
       "      <td>0.033124</td>\n",
       "      <td>0.033712</td>\n",
       "      <td>0.123194</td>\n",
       "      <td>0.0</td>\n",
       "    </tr>\n",
       "    <tr>\n",
       "      <th>...</th>\n",
       "      <td>...</td>\n",
       "      <td>...</td>\n",
       "      <td>...</td>\n",
       "      <td>...</td>\n",
       "      <td>...</td>\n",
       "      <td>...</td>\n",
       "      <td>...</td>\n",
       "    </tr>\n",
       "    <tr>\n",
       "      <th>1419</th>\n",
       "      <td>0.999900</td>\n",
       "      <td>0.585124</td>\n",
       "      <td>0.530594</td>\n",
       "      <td>0.592580</td>\n",
       "      <td>0.576985</td>\n",
       "      <td>0.181762</td>\n",
       "      <td>1.0</td>\n",
       "    </tr>\n",
       "    <tr>\n",
       "      <th>1420</th>\n",
       "      <td>0.999916</td>\n",
       "      <td>0.586777</td>\n",
       "      <td>0.548590</td>\n",
       "      <td>0.597549</td>\n",
       "      <td>0.602917</td>\n",
       "      <td>0.161136</td>\n",
       "      <td>0.0</td>\n",
       "    </tr>\n",
       "    <tr>\n",
       "      <th>1421</th>\n",
       "      <td>0.999967</td>\n",
       "      <td>0.616529</td>\n",
       "      <td>0.559088</td>\n",
       "      <td>0.612454</td>\n",
       "      <td>0.599676</td>\n",
       "      <td>0.132190</td>\n",
       "      <td>1.0</td>\n",
       "    </tr>\n",
       "    <tr>\n",
       "      <th>1422</th>\n",
       "      <td>0.999983</td>\n",
       "      <td>0.608264</td>\n",
       "      <td>0.566587</td>\n",
       "      <td>0.620735</td>\n",
       "      <td>0.620746</td>\n",
       "      <td>0.173636</td>\n",
       "      <td>1.0</td>\n",
       "    </tr>\n",
       "    <tr>\n",
       "      <th>1423</th>\n",
       "      <td>1.000000</td>\n",
       "      <td>0.636364</td>\n",
       "      <td>0.578584</td>\n",
       "      <td>0.637297</td>\n",
       "      <td>0.625608</td>\n",
       "      <td>0.129230</td>\n",
       "      <td>0.0</td>\n",
       "    </tr>\n",
       "  </tbody>\n",
       "</table>\n",
       "<p>1424 rows × 7 columns</p>\n",
       "</div>"
      ],
      "text/plain": [
       "            날짜        시가        고가        저가        종가       거래량  주가변동\n",
       "0     0.000000  0.025785  0.018596  0.029811  0.026904  0.092085   0.0\n",
       "1     0.000017  0.019174  0.012597  0.020205  0.016856  0.083105   0.0\n",
       "2     0.000033  0.009587  0.008098  0.020205  0.016856  0.077624   1.0\n",
       "3     0.000050  0.012893  0.017397  0.022855  0.031118  0.077058   1.0\n",
       "4     0.000100  0.025124  0.020696  0.033124  0.033712  0.123194   0.0\n",
       "...        ...       ...       ...       ...       ...       ...   ...\n",
       "1419  0.999900  0.585124  0.530594  0.592580  0.576985  0.181762   1.0\n",
       "1420  0.999916  0.586777  0.548590  0.597549  0.602917  0.161136   0.0\n",
       "1421  0.999967  0.616529  0.559088  0.612454  0.599676  0.132190   1.0\n",
       "1422  0.999983  0.608264  0.566587  0.620735  0.620746  0.173636   1.0\n",
       "1423  1.000000  0.636364  0.578584  0.637297  0.625608  0.129230   0.0\n",
       "\n",
       "[1424 rows x 7 columns]"
      ]
     },
     "execution_count": 146,
     "metadata": {},
     "output_type": "execute_result"
    }
   ],
   "source": [
    "xy_scaled_df"
   ]
  },
  {
   "cell_type": "code",
   "execution_count": 147,
   "id": "15dbb7b5",
   "metadata": {},
   "outputs": [],
   "source": [
    "xy_scaled_df = xy_scaled_df.drop(['날짜'], 1)"
   ]
  },
  {
   "cell_type": "code",
   "execution_count": 149,
   "id": "c2fe829e",
   "metadata": {},
   "outputs": [],
   "source": [
    "X = xy_scaled_df.iloc[:, 0:5]\n",
    "Y = xy_scaled_df.iloc[:, 5]"
   ]
  },
  {
   "cell_type": "code",
   "execution_count": 151,
   "id": "3aecf7ae",
   "metadata": {},
   "outputs": [],
   "source": [
    "seed = 5\n",
    "test_size = 0.33\n",
    "X_train, X_test, y_train, y_test = train_test_split(X, Y, test_size = test_size, random_state=seed)"
   ]
  },
  {
   "cell_type": "code",
   "execution_count": 152,
   "id": "8b1781e3",
   "metadata": {},
   "outputs": [
    {
     "data": {
      "text/plain": [
       "XGBClassifier(base_score=0.5, booster='gbtree', callbacks=None,\n",
       "              colsample_bylevel=1, colsample_bynode=1, colsample_bytree=1,\n",
       "              early_stopping_rounds=None, enable_categorical=False,\n",
       "              eval_metric=None, gamma=0, gpu_id=-1, grow_policy='depthwise',\n",
       "              importance_type=None, interaction_constraints='',\n",
       "              learning_rate=0.300000012, max_bin=256, max_cat_to_onehot=4,\n",
       "              max_delta_step=0, max_depth=6, max_leaves=0, min_child_weight=1,\n",
       "              missing=nan, monotone_constraints='()', n_estimators=100,\n",
       "              n_jobs=0, num_parallel_tree=1, predictor='auto', random_state=0,\n",
       "              reg_alpha=0, reg_lambda=1, ...)"
      ]
     },
     "execution_count": 152,
     "metadata": {},
     "output_type": "execute_result"
    }
   ],
   "source": [
    "model = XGBClassifier()\n",
    "model.fit(X_train, y_train)"
   ]
  },
  {
   "cell_type": "code",
   "execution_count": 153,
   "id": "751cad49",
   "metadata": {},
   "outputs": [],
   "source": [
    "y_pred = model.predict(X_test)\n",
    "predictions = [round(value) for value in y_pred]"
   ]
  },
  {
   "cell_type": "code",
   "execution_count": 154,
   "id": "4ddce2b7",
   "metadata": {},
   "outputs": [
    {
     "data": {
      "image/png": "[encoded data removed]",
      "text/plain": [
       "<Figure size 432x288 with 1 Axes>"
      ]
     },
     "metadata": {
      "needs_background": "light"
     },
     "output_type": "display_data"
    }
   ],
   "source": [
    "plt.plot(predictions)\n",
    "plt.plot(y_test)\n",
    "plt.show()"
   ]
  },
  {
   "cell_type": "code",
   "execution_count": 155,
   "id": "ffa007b3",
   "metadata": {},
   "outputs": [
    {
     "name": "stdout",
     "output_type": "stream",
     "text": [
      "accuracy_score:50.00%\n"
     ]
    }
   ],
   "source": [
    "accuracy = accuracy_score(y_test, predictions)\n",
    "print('accuracy_score:%.2f%%'%(accuracy*100.0))"
   ]
  },
  {
   "cell_type": "code",
   "execution_count": null,
   "id": "1acf3f0e",
   "metadata": {},
   "outputs": [],
   "source": []
  }
 ],
 "metadata": {
  "kernelspec": {
   "display_name": "auto-trading",
   "language": "python",
   "name": "auto-trading"
  },
  "language_info": {
   "codemirror_mode": {
    "name": "ipython",
    "version": 3
   },
   "file_extension": ".py",
   "mimetype": "text/x-python",
   "name": "python",
   "nbconvert_exporter": "python",
   "pygments_lexer": "ipython3",
   "version": "3.8.13"
  }
 },
 "nbformat": 4,
 "nbformat_minor": 5
}
